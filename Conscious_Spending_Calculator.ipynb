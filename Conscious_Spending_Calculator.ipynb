{
  "nbformat": 4,
  "nbformat_minor": 0,
  "metadata": {
    "colab": {
      "provenance": [],
      "authorship_tag": "ABX9TyNlT+iDapg6YtimL2HuSLX5",
      "include_colab_link": true
    },
    "kernelspec": {
      "name": "python3",
      "display_name": "Python 3"
    },
    "language_info": {
      "name": "python"
    }
  },
  "cells": [
    {
      "cell_type": "markdown",
      "metadata": {
        "id": "view-in-github",
        "colab_type": "text"
      },
      "source": [
        "<a href=\"https://colab.research.google.com/github/Pidarareach/Conscious-Spending/blob/main/Conscious_Spending_Calculator.ipynb\" target=\"_parent\"><img src=\"https://colab.research.google.com/assets/colab-badge.svg\" alt=\"Open In Colab\"/></a>"
      ]
    },
    {
      "cell_type": "markdown",
      "source": [
        "# CONCIOUS SPENDING CALCULATOR\n",
        "**Four different types of spending**\n",
        "*   Fixed costs (rent, bills, insurance, loans): add 15% each one for the things you haven't accounted for. Then, subtract total cost from your monthly take-home pay, ideally, around 50-60% of your net income.\n",
        "*   Investments (401k, Roth IRA, emergency fund): aim to save at least 5-10% of your income after taxes.\n",
        "*   Savings goals (vacation fund, home down payment): what you want for the future (short, mid, and long-term savings) around 20% of your take-home pay.\n",
        "*   Guilt-free spending: 20-30% of your take-home pay.\n",
        "\n",
        "**The 50/30/20 Rule**: 50% for needs, 20% for savings, and 30% for wants. We can set up an automated system, when the pay check comes in, it splits to a fixed costs, savings, and guilt-free spendings.\n",
        "\n",
        "**Kepp track**: either spread sheet or an app.\n",
        "\n",
        "# The Program\n",
        "Ask users to input their monthly take-home pay, fixed costs, how much they want to invest (5-10% of their income), how much for savings goals %?, and guilt-free spending 20-30% of their income.  \n",
        "\n",
        "\n",
        "\n"
      ],
      "metadata": {
        "id": "MvGultkN0Wg4"
      }
    },
    {
      "cell_type": "code",
      "execution_count": null,
      "metadata": {
        "id": "mG4v8ejw0VHx",
        "colab": {
          "base_uri": "https://localhost:8080/"
        },
        "outputId": "3b43e739-849d-44ac-a043-55fd54065a69"
      },
      "outputs": [
        {
          "output_type": "stream",
          "name": "stdout",
          "text": [
            "The 50/30/20 Rule\n",
            "Enter only numbers to the following questions\n",
            "How much you make in a month?4000\n",
            "What is the total fixed costs monthly?\n",
            "rent = 100\n",
            "car payment = 01\n",
            "gas = 10\n",
            "all insurance = 10\n",
            "debt = 10\n",
            "groceries = 1000\n",
            "other = 0\n",
            "\n",
            "Total fixed costs = 1300.65$\n",
            "which is about 32.51625% of your income. 60% max.\n",
            "20% toward savings = 539.87$\n",
            "Optional: half of the savings toward investments = 269.935$, and something you want = 269.935$\n",
            "30% toward guilt free spending = 809.805$\n",
            "\n",
            "Note: you can swap 30% to your saving and 20% to your guilt-free spending, if you want to save faster.\n",
            "But remember, the guilt free spending can add up faster than you realized.\n"
          ]
        }
      ],
      "source": [
        "print(\"The 50/30/20 Rule\")\n",
        "\n",
        "# get user inputs\n",
        "print(\"Enter only numbers to the following questions\")\n",
        "monthly_income = float(input(\"How much you make in a month?\"))\n",
        "\n",
        "print(\"What is the total fixed costs monthly?\")\n",
        "rent = float(input(\"rent = \"))\n",
        "car_payment = float(input(\"car payment = \"))\n",
        "gas = float(input(\"gas = \"))\n",
        "insurance = float(input(\"all insurance = \"))\n",
        "debt = float(input(\"debt = \"))\n",
        "groceries = float(input(\"groceries = \"))\n",
        "other = float(input(\"other = \"))\n",
        "\n",
        "# total fixed costs\n",
        "fixed_costs = rent + car_payment + gas + insurance + debt + groceries + other\n",
        "\n",
        "# add 15% to account for any unforeseen\n",
        "total_fixed = fixed_costs + (fixed_costs * 15 / 100)\n",
        "total_fixed_percentage = (total_fixed / monthly_income ) * 100\n",
        "\n",
        "# leftover money after paying off the fixed costs\n",
        "net_income = monthly_income - total_fixed\n",
        "\n",
        "# 20% of that net income to savings/investments\n",
        "savings = net_income * 20 / 100\n",
        "\n",
        "# optional\n",
        "investments = savings / 2   # put 50/50 on investments and on something you want\n",
        "wants = savings - investments\n",
        "\n",
        "# 30% to daily spendings\n",
        "guilt_free = net_income * 30 / 100\n",
        "\n",
        "# print results\n",
        "print()\n",
        "print(f\"Total fixed costs = {total_fixed}$\")\n",
        "print(f\"which is about {total_fixed_percentage}% of your income. (60% max)\")\n",
        "print(f\"20% toward savings = {savings}$\")\n",
        "print(f\"Optional: half of the savings toward investments = {investments}$, and something you want = {wants}$\")\n",
        "print(f\"30% toward guilt free spending = {guilt_free}$\")\n",
        "print()\n",
        "print(\"Note: you can swap 30% to your saving and 20% to your guilt-free spending, if you want to save faster.\")\n",
        "print(\"But remember, the guilt free spending can add up faster than you realized.\")\n"
      ]
    }
  ]
}